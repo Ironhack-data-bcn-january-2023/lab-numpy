{
 "cells": [
  {
   "cell_type": "code",
   "execution_count": 1,
   "id": "aacbb444",
   "metadata": {},
   "outputs": [],
   "source": [
    "import numpy as np"
   ]
  },
  {
   "cell_type": "code",
   "execution_count": 2,
   "id": "dd97b564",
   "metadata": {},
   "outputs": [
    {
     "name": "stdout",
     "output_type": "stream",
     "text": [
      "1.24.1\n"
     ]
    }
   ],
   "source": [
    "print(np.__version__)"
   ]
  },
  {
   "cell_type": "code",
   "execution_count": 3,
   "id": "5c635d01",
   "metadata": {},
   "outputs": [
    {
     "name": "stdout",
     "output_type": "stream",
     "text": [
      "openblas64__info:\n",
      "    libraries = ['openblas64_', 'openblas64_']\n",
      "    library_dirs = ['openblas\\\\lib']\n",
      "    language = c\n",
      "    define_macros = [('HAVE_CBLAS', None), ('BLAS_SYMBOL_SUFFIX', '64_'), ('HAVE_BLAS_ILP64', None)]\n",
      "    runtime_library_dirs = ['openblas\\\\lib']\n",
      "blas_ilp64_opt_info:\n",
      "    libraries = ['openblas64_', 'openblas64_']\n",
      "    library_dirs = ['openblas\\\\lib']\n",
      "    language = c\n",
      "    define_macros = [('HAVE_CBLAS', None), ('BLAS_SYMBOL_SUFFIX', '64_'), ('HAVE_BLAS_ILP64', None)]\n",
      "    runtime_library_dirs = ['openblas\\\\lib']\n",
      "openblas64__lapack_info:\n",
      "    libraries = ['openblas64_', 'openblas64_']\n",
      "    library_dirs = ['openblas\\\\lib']\n",
      "    language = c\n",
      "    define_macros = [('HAVE_CBLAS', None), ('BLAS_SYMBOL_SUFFIX', '64_'), ('HAVE_BLAS_ILP64', None), ('HAVE_LAPACKE', None)]\n",
      "    runtime_library_dirs = ['openblas\\\\lib']\n",
      "lapack_ilp64_opt_info:\n",
      "    libraries = ['openblas64_', 'openblas64_']\n",
      "    library_dirs = ['openblas\\\\lib']\n",
      "    language = c\n",
      "    define_macros = [('HAVE_CBLAS', None), ('BLAS_SYMBOL_SUFFIX', '64_'), ('HAVE_BLAS_ILP64', None), ('HAVE_LAPACKE', None)]\n",
      "    runtime_library_dirs = ['openblas\\\\lib']\n",
      "Supported SIMD extensions in this NumPy install:\n",
      "    baseline = SSE,SSE2,SSE3\n",
      "    found = SSSE3,SSE41,POPCNT,SSE42,AVX,F16C,FMA3,AVX2\n",
      "    not found = AVX512F,AVX512CD,AVX512_SKX,AVX512_CLX,AVX512_CNL,AVX512_ICL\n",
      "None\n"
     ]
    }
   ],
   "source": [
    "print(np.show_config())"
   ]
  },
  {
   "cell_type": "code",
   "execution_count": 62,
   "id": "41536993",
   "metadata": {},
   "outputs": [
    {
     "data": {
      "text/plain": [
       "array([[[3, 4, 2, 6, 4],\n",
       "        [6, 5, 9, 8, 2],\n",
       "        [6, 4, 8, 4, 1]],\n",
       "\n",
       "       [[8, 9, 5, 5, 8],\n",
       "        [4, 5, 6, 2, 7],\n",
       "        [9, 2, 6, 8, 2]]])"
      ]
     },
     "execution_count": 62,
     "metadata": {},
     "output_type": "execute_result"
    }
   ],
   "source": [
    "a = np.random.randint(1, 10,size=(2,3,5))\n",
    "a"
   ]
  },
  {
   "cell_type": "code",
   "execution_count": 55,
   "id": "3bad87ad",
   "metadata": {},
   "outputs": [
    {
     "data": {
      "text/plain": [
       "array([[[0.00445535, 0.5751054 , 0.12350929, 0.2069544 , 0.89556846],\n",
       "        [0.92464455, 0.16905037, 0.08949467, 0.53487219, 0.40075328],\n",
       "        [0.44247765, 0.53697854, 0.38154561, 0.99599321, 0.83078623]],\n",
       "\n",
       "       [[0.63774424, 0.41371545, 0.80785445, 0.18443401, 0.63079263],\n",
       "        [0.01414083, 0.27860683, 0.1782011 , 0.69694423, 0.73956154],\n",
       "        [0.40087597, 0.80900933, 0.85980301, 0.28240201, 0.10692025]]])"
      ]
     },
     "execution_count": 55,
     "metadata": {},
     "output_type": "execute_result"
    }
   ],
   "source": [
    "a_2 = np.random.rand(2,3,5)\n",
    "a_2"
   ]
  },
  {
   "cell_type": "code",
   "execution_count": 70,
   "id": "0ffc405c",
   "metadata": {},
   "outputs": [
    {
     "data": {
      "text/plain": [
       "array([[[1, 1, 1],\n",
       "        [1, 1, 1]],\n",
       "\n",
       "       [[1, 1, 1],\n",
       "        [1, 1, 1]],\n",
       "\n",
       "       [[1, 1, 1],\n",
       "        [1, 1, 1]],\n",
       "\n",
       "       [[1, 1, 1],\n",
       "        [1, 1, 1]],\n",
       "\n",
       "       [[1, 1, 1],\n",
       "        [1, 1, 1]]])"
      ]
     },
     "execution_count": 70,
     "metadata": {},
     "output_type": "execute_result"
    }
   ],
   "source": [
    "b_2 = np.random.randint(1,2, size=(5,2,3))\n",
    "b_2"
   ]
  },
  {
   "cell_type": "code",
   "execution_count": 71,
   "id": "c4598591",
   "metadata": {},
   "outputs": [
    {
     "data": {
      "text/plain": [
       "array([[[1., 1., 1.],\n",
       "        [1., 1., 1.]],\n",
       "\n",
       "       [[1., 1., 1.],\n",
       "        [1., 1., 1.]],\n",
       "\n",
       "       [[1., 1., 1.],\n",
       "        [1., 1., 1.]],\n",
       "\n",
       "       [[1., 1., 1.],\n",
       "        [1., 1., 1.]],\n",
       "\n",
       "       [[1., 1., 1.],\n",
       "        [1., 1., 1.]]])"
      ]
     },
     "execution_count": 71,
     "metadata": {},
     "output_type": "execute_result"
    }
   ],
   "source": [
    "b = np.ones((5,2,3))\n",
    "b"
   ]
  },
  {
   "cell_type": "code",
   "execution_count": 72,
   "id": "32e5ef15",
   "metadata": {},
   "outputs": [],
   "source": [
    "def numpy_info(array_name):\n",
    "    print(f\"size is {array_name.size}\")\n",
    "    print(f\"shape is {array_name.shape}\")\n",
    "    print(f\"dimension is {array_name.ndim}\")"
   ]
  },
  {
   "cell_type": "code",
   "execution_count": 73,
   "id": "60ac9a58",
   "metadata": {},
   "outputs": [
    {
     "name": "stdout",
     "output_type": "stream",
     "text": [
      "size is 30\n",
      "shape is (2, 3, 5)\n",
      "dimension is 3\n"
     ]
    }
   ],
   "source": [
    "numpy_info(a)"
   ]
  },
  {
   "cell_type": "code",
   "execution_count": 74,
   "id": "93bbe51a",
   "metadata": {},
   "outputs": [
    {
     "name": "stdout",
     "output_type": "stream",
     "text": [
      "size is 30\n",
      "shape is (5, 2, 3)\n",
      "dimension is 3\n"
     ]
    }
   ],
   "source": [
    "numpy_info(b)"
   ]
  },
  {
   "cell_type": "code",
   "execution_count": 79,
   "id": "56cf4757",
   "metadata": {
    "scrolled": true
   },
   "outputs": [
    {
     "name": "stdout",
     "output_type": "stream",
     "text": [
      "NOPE a is (2, 3, 5) and b is (5, 2, 3)\n"
     ]
    }
   ],
   "source": [
    "def compare(a,b):\n",
    "    if a.shape == b.shape:\n",
    "        print(f\"they are the same shape:{a.shape}\")\n",
    "    elif a.shape != b.shape:\n",
    "        print(f\"NOPE a is {a.shape} and b is {b.shape}\")\n",
    "compare(a,b)"
   ]
  },
  {
   "cell_type": "code",
   "execution_count": 76,
   "id": "33f08b15",
   "metadata": {},
   "outputs": [
    {
     "ename": "ValueError",
     "evalue": "operands could not be broadcast together with shapes (2,3,5) (5,2,3) ",
     "output_type": "error",
     "traceback": [
      "\u001b[1;31m---------------------------------------------------------------------------\u001b[0m",
      "\u001b[1;31mValueError\u001b[0m                                Traceback (most recent call last)",
      "Input \u001b[1;32mIn [76]\u001b[0m, in \u001b[0;36m<cell line: 1>\u001b[1;34m()\u001b[0m\n\u001b[1;32m----> 1\u001b[0m result \u001b[38;5;241m=\u001b[39m \u001b[43ma\u001b[49m\u001b[43m \u001b[49m\u001b[38;5;241;43m+\u001b[39;49m\u001b[43m \u001b[49m\u001b[43mb\u001b[49m\n",
      "\u001b[1;31mValueError\u001b[0m: operands could not be broadcast together with shapes (2,3,5) (5,2,3) "
     ]
    }
   ],
   "source": [
    "result = a + b"
   ]
  },
  {
   "cell_type": "code",
   "execution_count": 98,
   "id": "3ab363f0",
   "metadata": {},
   "outputs": [
    {
     "data": {
      "text/plain": [
       "array([[[1., 1., 1., 1., 1.],\n",
       "        [1., 1., 1., 1., 1.],\n",
       "        [1., 1., 1., 1., 1.]],\n",
       "\n",
       "       [[1., 1., 1., 1., 1.],\n",
       "        [1., 1., 1., 1., 1.],\n",
       "        [1., 1., 1., 1., 1.]]])"
      ]
     },
     "execution_count": 98,
     "metadata": {},
     "output_type": "execute_result"
    }
   ],
   "source": [
    "# from (5,2,3) to (2,3,5)\n",
    "# index 1 goes to index 0\n",
    "# index 2 goes to index 1\n",
    "# index 0 goes to index 2\n",
    "c = b.transpose((1,2,0))\n",
    "c"
   ]
  },
  {
   "cell_type": "code",
   "execution_count": 100,
   "id": "93db9f82",
   "metadata": {},
   "outputs": [
    {
     "name": "stdout",
     "output_type": "stream",
     "text": [
      "(2, 3, 5)\n",
      "(2, 3, 5)\n"
     ]
    }
   ],
   "source": [
    "print(c.shape)\n",
    "print(a.shape)"
   ]
  },
  {
   "cell_type": "code",
   "execution_count": 102,
   "id": "9d970c34",
   "metadata": {},
   "outputs": [
    {
     "data": {
      "text/plain": [
       "True"
      ]
     },
     "execution_count": 102,
     "metadata": {},
     "output_type": "execute_result"
    }
   ],
   "source": [
    "c.shape == a.shape"
   ]
  },
  {
   "cell_type": "code",
   "execution_count": 104,
   "id": "20b3cfc8",
   "metadata": {},
   "outputs": [
    {
     "data": {
      "text/plain": [
       "array([[[ 4.,  5.,  3.,  7.,  5.],\n",
       "        [ 7.,  6., 10.,  9.,  3.],\n",
       "        [ 7.,  5.,  9.,  5.,  2.]],\n",
       "\n",
       "       [[ 9., 10.,  6.,  6.,  9.],\n",
       "        [ 5.,  6.,  7.,  3.,  8.],\n",
       "        [10.,  3.,  7.,  9.,  3.]]])"
      ]
     },
     "execution_count": 104,
     "metadata": {},
     "output_type": "execute_result"
    }
   ],
   "source": [
    "d = a + c\n",
    "d"
   ]
  },
  {
   "cell_type": "code",
   "execution_count": 105,
   "id": "3a65325c",
   "metadata": {},
   "outputs": [
    {
     "name": "stdout",
     "output_type": "stream",
     "text": [
      "[[[3 4 2 6 4]\n",
      "  [6 5 9 8 2]\n",
      "  [6 4 8 4 1]]\n",
      "\n",
      " [[8 9 5 5 8]\n",
      "  [4 5 6 2 7]\n",
      "  [9 2 6 8 2]]]\n",
      "[[[ 4.  5.  3.  7.  5.]\n",
      "  [ 7.  6. 10.  9.  3.]\n",
      "  [ 7.  5.  9.  5.  2.]]\n",
      "\n",
      " [[ 9. 10.  6.  6.  9.]\n",
      "  [ 5.  6.  7.  3.  8.]\n",
      "  [10.  3.  7.  9.  3.]]]\n"
     ]
    }
   ],
   "source": [
    "print(a)\n",
    "print(d)"
   ]
  },
  {
   "cell_type": "code",
   "execution_count": 107,
   "id": "de5b2e4e",
   "metadata": {},
   "outputs": [
    {
     "data": {
      "text/plain": [
       "array([[[3., 4., 2., 6., 4.],\n",
       "        [6., 5., 9., 8., 2.],\n",
       "        [6., 4., 8., 4., 1.]],\n",
       "\n",
       "       [[8., 9., 5., 5., 8.],\n",
       "        [4., 5., 6., 2., 7.],\n",
       "        [9., 2., 6., 8., 2.]]])"
      ]
     },
     "execution_count": 107,
     "metadata": {},
     "output_type": "execute_result"
    }
   ],
   "source": [
    "e = a * c\n",
    "e"
   ]
  },
  {
   "cell_type": "code",
   "execution_count": 108,
   "id": "34afd036",
   "metadata": {
    "scrolled": true
   },
   "outputs": [
    {
     "data": {
      "text/plain": [
       "array([[[ True,  True,  True,  True,  True],\n",
       "        [ True,  True,  True,  True,  True],\n",
       "        [ True,  True,  True,  True,  True]],\n",
       "\n",
       "       [[ True,  True,  True,  True,  True],\n",
       "        [ True,  True,  True,  True,  True],\n",
       "        [ True,  True,  True,  True,  True]]])"
      ]
     },
     "execution_count": 108,
     "metadata": {},
     "output_type": "execute_result"
    }
   ],
   "source": [
    "a == e"
   ]
  },
  {
   "cell_type": "code",
   "execution_count": 115,
   "id": "df6c6a0d",
   "metadata": {},
   "outputs": [
    {
     "data": {
      "text/plain": [
       "True"
      ]
     },
     "execution_count": 115,
     "metadata": {},
     "output_type": "execute_result"
    }
   ],
   "source": [
    "np.array_equal(a,e)"
   ]
  },
  {
   "cell_type": "code",
   "execution_count": 116,
   "id": "1f708d24",
   "metadata": {},
   "outputs": [
    {
     "data": {
      "text/plain": [
       "10.0"
      ]
     },
     "execution_count": 116,
     "metadata": {},
     "output_type": "execute_result"
    }
   ],
   "source": [
    "d_max = np.max(d)\n",
    "d_max"
   ]
  },
  {
   "cell_type": "code",
   "execution_count": 118,
   "id": "ea854523",
   "metadata": {},
   "outputs": [
    {
     "data": {
      "text/plain": [
       "2.0"
      ]
     },
     "execution_count": 118,
     "metadata": {},
     "output_type": "execute_result"
    }
   ],
   "source": [
    "d_min = np.min(d)\n",
    "d_min"
   ]
  },
  {
   "cell_type": "code",
   "execution_count": 120,
   "id": "0d823bf0",
   "metadata": {},
   "outputs": [
    {
     "data": {
      "text/plain": [
       "6.266666666666667"
      ]
     },
     "execution_count": 120,
     "metadata": {},
     "output_type": "execute_result"
    }
   ],
   "source": [
    "d_mean = np.mean(d)\n",
    "d_mean"
   ]
  },
  {
   "cell_type": "code",
   "execution_count": 123,
   "id": "fb1aad72",
   "metadata": {},
   "outputs": [
    {
     "data": {
      "text/plain": [
       "array([[[3., 4., 2., 6., 4.],\n",
       "        [6., 5., 9., 8., 2.],\n",
       "        [6., 4., 8., 4., 1.]],\n",
       "\n",
       "       [[8., 9., 5., 5., 8.],\n",
       "        [4., 5., 6., 2., 7.],\n",
       "        [9., 2., 6., 8., 2.]]])"
      ]
     },
     "execution_count": 123,
     "metadata": {},
     "output_type": "execute_result"
    }
   ],
   "source": [
    "f = np.empty((2,3,5))\n",
    "f"
   ]
  },
  {
   "cell_type": "code",
   "execution_count": 128,
   "id": "53c3d7c7",
   "metadata": {},
   "outputs": [
    {
     "ename": "SyntaxError",
     "evalue": "incomplete input (1230754036.py, line 14)",
     "output_type": "error",
     "traceback": [
      "\u001b[1;36m  Input \u001b[1;32mIn [128]\u001b[1;36m\u001b[0m\n\u001b[1;33m    \u001b[0m\n\u001b[1;37m    ^\u001b[0m\n\u001b[1;31mSyntaxError\u001b[0m\u001b[1;31m:\u001b[0m incomplete input\n"
     ]
    }
   ],
   "source": [
    "# for i in d \n",
    "\n",
    "# if d_min < d < d_mean, 25\n",
    "\n",
    "# if  d_mean < d < d_max, 75\n",
    "\n",
    "# if d == d_mean, 50\n",
    "\n",
    "# if d == d_min, 0\n",
    "\n",
    "#if d == d_max, 100\n",
    "    "
   ]
  },
  {
   "cell_type": "code",
   "execution_count": 129,
   "id": "77587f07",
   "metadata": {},
   "outputs": [
    {
     "data": {
      "text/plain": [
       "True"
      ]
     },
     "execution_count": 129,
     "metadata": {},
     "output_type": "execute_result"
    }
   ],
   "source": [
    "f.shape == d.shape"
   ]
  },
  {
   "cell_type": "code",
   "execution_count": null,
   "id": "0a342ee3",
   "metadata": {
    "scrolled": true
   },
   "outputs": [],
   "source": [
    "\n"
   ]
  },
  {
   "cell_type": "code",
   "execution_count": 153,
   "id": "0638e4bf",
   "metadata": {},
   "outputs": [
    {
     "name": "stdout",
     "output_type": "stream",
     "text": [
      "[[[ 4.  5.  3.  7.  5.]\n",
      "  [ 7.  6. 10.  9.  3.]\n",
      "  [ 7.  5.  9.  5.  2.]]\n",
      "\n",
      " [[ 9. 10.  6.  6.  9.]\n",
      "  [ 5.  6.  7.  3.  8.]\n",
      "  [10.  3.  7.  9.  3.]]]\n"
     ]
    }
   ],
   "source": [
    "print(d)"
   ]
  },
  {
   "cell_type": "code",
   "execution_count": 149,
   "id": "31a052b6",
   "metadata": {
    "scrolled": true
   },
   "outputs": [
    {
     "name": "stdout",
     "output_type": "stream",
     "text": [
      "[[ 4.  5.  3.  7.  5.]\n",
      " [ 7.  6. 10.  9.  3.]\n",
      " [ 7.  5.  9.  5.  2.]]\n"
     ]
    }
   ],
   "source": [
    "print(d[0])"
   ]
  },
  {
   "cell_type": "code",
   "execution_count": 150,
   "id": "489ef133",
   "metadata": {},
   "outputs": [
    {
     "name": "stdout",
     "output_type": "stream",
     "text": [
      "[4. 5. 3. 7. 5.]\n"
     ]
    }
   ],
   "source": [
    "print(d[0][0])"
   ]
  },
  {
   "cell_type": "code",
   "execution_count": 156,
   "id": "cd14bf7b",
   "metadata": {},
   "outputs": [
    {
     "name": "stdout",
     "output_type": "stream",
     "text": [
      "4.0\n"
     ]
    }
   ],
   "source": [
    "print(d[0][0][0])"
   ]
  },
  {
   "cell_type": "code",
   "execution_count": 168,
   "id": "f85ac57d",
   "metadata": {},
   "outputs": [
    {
     "name": "stdout",
     "output_type": "stream",
     "text": [
      "range(0, 2)\n",
      "range(0, 3)\n",
      "range(0, 5)\n"
     ]
    }
   ],
   "source": [
    "print(range(f.shape[0]))\n",
    "print(range(f.shape[1]))\n",
    "print(range(f.shape[2]))"
   ]
  },
  {
   "cell_type": "code",
   "execution_count": 170,
   "id": "08461cd7",
   "metadata": {
    "scrolled": true
   },
   "outputs": [],
   "source": [
    "for i in range(f.shape[0]):\n",
    "    for j in range(f.shape[1]):\n",
    "        for k in range(f.shape[2]):\n",
    "            if d[i, j ,k] == d_min:\n",
    "                f[i, j, k] = 0\n",
    "            elif d[i, j, k] > d_min and d[i, j, k] < d_mean:\n",
    "                f[i, j, k] = 25\n",
    "            elif d[i, j, k] == d_mean:\n",
    "                f[i, j, k] = 50\n",
    "            elif d[i, j, k] > d_mean and d[i, j, k] < d_max:\n",
    "                f[i, j, k] = 75\n",
    "            elif d[i, j, k] == d_max:\n",
    "                f[i, j, k] = 100\n",
    "                \n",
    "                \n",
    "                 "
   ]
  },
  {
   "cell_type": "code",
   "execution_count": 171,
   "id": "640a5c09",
   "metadata": {},
   "outputs": [
    {
     "name": "stdout",
     "output_type": "stream",
     "text": [
      "[[[ 25.  25.  25.  75.  25.]\n",
      "  [ 75.  25. 100.  75.  25.]\n",
      "  [ 75.  25.  75.  25.   0.]]\n",
      "\n",
      " [[ 75. 100.  25.  25.  75.]\n",
      "  [ 25.  25.  75.  25.  75.]\n",
      "  [100.  25.  75.  75.  25.]]]\n",
      "5\n"
     ]
    }
   ],
   "source": [
    "print(f)\n",
    "print(f.shape[2])"
   ]
  },
  {
   "cell_type": "code",
   "execution_count": 172,
   "id": "62512654",
   "metadata": {
    "scrolled": true
   },
   "outputs": [],
   "source": [
    "f = np.empty((2,3,5), dtype=str)\n",
    "\n",
    "for i in range(f.shape[0]):\n",
    "    for j in range(f.shape[1]):\n",
    "        for k in range(f.shape[2]):\n",
    "            if d[i, j ,k] == d_min:\n",
    "                f[i, j, k] = \"A\"\n",
    "            elif d[i, j, k] > d_min and d[i, j, k] < d_mean:\n",
    "                f[i, j, k] = \"B\"\n",
    "            elif d[i, j, k] == d_mean:\n",
    "                f[i, j, k] = \"C\"\n",
    "            elif d[i, j, k] > d_mean and d[i, j, k] < d_max:\n",
    "                f[i, j, k] = \"D\"\n",
    "            elif d[i, j, k] == d_max:\n",
    "                f[i, j, k] = \"E\"\n",
    "                "
   ]
  },
  {
   "cell_type": "code",
   "execution_count": 173,
   "id": "012ecfad",
   "metadata": {},
   "outputs": [
    {
     "name": "stdout",
     "output_type": "stream",
     "text": [
      "[[['B' 'B' 'B' 'D' 'B']\n",
      "  ['D' 'B' 'E' 'D' 'B']\n",
      "  ['D' 'B' 'D' 'B' 'A']]\n",
      "\n",
      " [['D' 'E' 'B' 'B' 'D']\n",
      "  ['B' 'B' 'D' 'B' 'D']\n",
      "  ['E' 'B' 'D' 'D' 'B']]]\n"
     ]
    }
   ],
   "source": [
    "print(f)"
   ]
  },
  {
   "cell_type": "code",
   "execution_count": null,
   "id": "b8583830",
   "metadata": {},
   "outputs": [],
   "source": []
  },
  {
   "cell_type": "code",
   "execution_count": null,
   "id": "1551cebf",
   "metadata": {},
   "outputs": [],
   "source": []
  },
  {
   "cell_type": "code",
   "execution_count": null,
   "id": "272aed96",
   "metadata": {},
   "outputs": [],
   "source": []
  },
  {
   "cell_type": "code",
   "execution_count": null,
   "id": "6861b581",
   "metadata": {},
   "outputs": [],
   "source": []
  },
  {
   "cell_type": "code",
   "execution_count": null,
   "id": "fe8b2b52",
   "metadata": {},
   "outputs": [],
   "source": []
  }
 ],
 "metadata": {
  "kernelspec": {
   "display_name": "ironhack",
   "language": "python",
   "name": "ironhack"
  },
  "language_info": {
   "codemirror_mode": {
    "name": "ipython",
    "version": 3
   },
   "file_extension": ".py",
   "mimetype": "text/x-python",
   "name": "python",
   "nbconvert_exporter": "python",
   "pygments_lexer": "ipython3",
   "version": "3.10.8"
  }
 },
 "nbformat": 4,
 "nbformat_minor": 5
}
